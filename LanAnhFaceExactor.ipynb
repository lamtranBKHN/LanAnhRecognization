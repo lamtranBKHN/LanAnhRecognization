{
  "nbformat": 4,
  "nbformat_minor": 0,
  "metadata": {
    "colab": {
      "name": "LanAnhFaceExactor.ipynb",
      "provenance": [],
      "collapsed_sections": [],
      "mount_file_id": "1EpAgLhGJZHuz7m6yItR-eTSXCpKLQ96N",
      "authorship_tag": "ABX9TyNw8dPdv2VnU1s2kMw8+KcG",
      "include_colab_link": true
    },
    "kernelspec": {
      "name": "python3",
      "display_name": "Python 3"
    },
    "accelerator": "GPU"
  },
  "cells": [
    {
      "cell_type": "markdown",
      "metadata": {
        "id": "view-in-github",
        "colab_type": "text"
      },
      "source": [
        "<a href=\"https://colab.research.google.com/github/lamtranBKHN/LanAnhRecognization/blob/origin/LanAnhFaceExactor.ipynb\" target=\"_parent\"><img src=\"https://colab.research.google.com/assets/colab-badge.svg\" alt=\"Open In Colab\"/></a>"
      ]
    },
    {
      "cell_type": "code",
      "metadata": {
        "id": "njeb51Irpcsk"
      },
      "source": [
        "import os\r\n",
        "\r\n",
        "from os import listdir\r\n",
        "from os.path import isfile, join\r\n",
        "import cv2\r\n",
        "import numpy\r\n"
      ],
      "execution_count": null,
      "outputs": []
    },
    {
      "cell_type": "code",
      "metadata": {
        "id": "PoLY1sz4ZKYe"
      },
      "source": [
        "IM_SIZE = 500\r\n",
        "face_cascade = cv2.CascadeClassifier('/content/drive/Shareddrives/Lâm_Trần/MAIT2020/temp/haarcascade_frontalface_alt.xml')\r\n",
        "\r\n",
        "# Folder stores all face-data\r\n",
        "parent_dir = '/content/drive/Shareddrives/Lâm_Trần/Lan_Anh/Raw_data'\r\n",
        "# Folder you want to save face data\r\n",
        "store_dir = '/content/drive/Shareddrives/Lâm_Trần/Lan_Anh/Face_exacted'\r\n",
        "# Create store directory if not exist\r\n",
        "if not os.path.exists(store_dir):\r\n",
        "    os.makedirs(store_dir)\r\n",
        "\r\n",
        "# extract a single face from a given photograph\r\n",
        "def extract_face(imgPath, storePath):\r\n",
        "  print(\"Processing \" + fname + \" ... \")\r\n",
        "  mypath = imgPath\r\n",
        "  onlyfiles = [f for f in listdir(mypath) if isfile(join(mypath, f))]\r\n",
        "  images = numpy.empty(len(onlyfiles), dtype=object)\r\n",
        "  for n in range(0, len(onlyfiles)):\r\n",
        "      images[n] = cv2.imread(join(mypath, onlyfiles[n]), 1)\r\n",
        "      gray = cv2.cvtColor(images[n], cv2.COLOR_BGR2GRAY)\r\n",
        "      faces = face_cascade.detectMultiScale(gray, \r\n",
        "                                scaleFactor=1.1, \r\n",
        "                                minNeighbors=6, \r\n",
        "                                minSize=(30, 30),\r\n",
        "                                flags=cv2.CASCADE_SCALE_IMAGE)\r\n",
        "      for (x, y, w, h) in faces:\r\n",
        "          if y > h//3:\r\n",
        "              y_new = y - h//3\r\n",
        "          else:\r\n",
        "              y_new = y\r\n",
        "          if x > w//3:\r\n",
        "              x_new = x - w//3\r\n",
        "          else:\r\n",
        "              x_new = x\r\n",
        "          new = images[n][y_new:(y + h + h // 3), x_new:(x + w + w // 3)]\r\n",
        "          new = cv2.resize(new, (IM_SIZE, IM_SIZE))\r\n",
        "          cv2.imwrite(os.path.join(storePath , \"image%04i.jpg\" % n), new)\r\n",
        "\r\n",
        "extract_face(parent_dir, store_dir)"
      ],
      "execution_count": null,
      "outputs": []
    }
  ]
}