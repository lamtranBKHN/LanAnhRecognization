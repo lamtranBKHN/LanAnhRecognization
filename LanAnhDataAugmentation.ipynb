{
  "nbformat": 4,
  "nbformat_minor": 0,
  "metadata": {
    "colab": {
      "name": "LanAnhDataAugmentation.ipynb",
      "provenance": [],
      "mount_file_id": "1-PHImmzbHBZ3uc74p6LoTtz37SBbYsaK",
      "authorship_tag": "ABX9TyPpnpDAxfaHUFa1pFORF5ZA",
      "include_colab_link": true
    },
    "kernelspec": {
      "name": "python3",
      "display_name": "Python 3"
    }
  },
  "cells": [
    {
      "cell_type": "markdown",
      "metadata": {
        "id": "view-in-github",
        "colab_type": "text"
      },
      "source": [
        "<a href=\"https://colab.research.google.com/github/lamtranBKHN/LanAnhRecognization/blob/origin/LanAnhDataAugmentation.ipynb\" target=\"_parent\"><img src=\"https://colab.research.google.com/assets/colab-badge.svg\" alt=\"Open In Colab\"/></a>"
      ]
    },
    {
      "cell_type": "code",
      "metadata": {
        "id": "2naLJ8nOr6ES"
      },
      "source": [
        "from keras.preprocessing.image import ImageDataGenerator\r\n",
        "import numpy as np\r\n",
        "import cv2\r\n",
        "import random\r\n",
        "import pickle\r\n",
        "import os\r\n",
        "import tensorflow as tf\r\n",
        "from tensorflow import keras\r\n",
        "from tensorflow.keras import layers\r\n",
        "from keras.preprocessing.image import ImageDataGenerator, array_to_img, img_to_array, load_img"
      ],
      "execution_count": 3,
      "outputs": []
    },
    {
      "cell_type": "code",
      "metadata": {
        "id": "nsoloLftsCcd"
      },
      "source": [
        "IMG_SIZE = 500\r\n",
        "desire = 100\r\n",
        "\r\n",
        "# Folder stores all face-data\r\n",
        "parent_dir = '/content/drive/Shareddrives/Lâm_Trần/Lan_Anh/Face_exacted'\r\n",
        "\r\n",
        "# Folder you want to save face data\r\n",
        "store_dir = '/content/drive/Shareddrives/Lâm_Trần/Lan_Anh/DataAugmented'\r\n",
        "if not os.path.exists(store_dir):\r\n",
        "      os.makedirs(store_dir)\r\n",
        "for filename in os.listdir(parent_dir):\r\n",
        "      # img = cv2.imread(os.path.join(personal_img_path,filename))\r\n",
        "\r\n",
        "      datagen = ImageDataGenerator(\r\n",
        "              rotation_range=40,\r\n",
        "              width_shift_range=0.2,\r\n",
        "              height_shift_range=0.2,\r\n",
        "              shear_range=0.2,\r\n",
        "              zoom_range=0.2,\r\n",
        "              horizontal_flip=True,\r\n",
        "              fill_mode='nearest')\r\n",
        "      img = tf.keras.preprocessing.image.load_img(os.path.join(parent_dir,filename))\r\n",
        "\r\n",
        "      x = img_to_array(img)  # this is a Numpy array with shape (3, 150, 150)\r\n",
        "      x = x.reshape((1,) + x.shape)  # this is a Numpy array with shape (1, 3, 150, 150)\r\n",
        "      \r\n",
        "      i = 0\r\n",
        "      for batch in datagen.flow(x, batch_size=1,\r\n",
        "                                save_to_dir=store_dir, save_prefix=\"a\", save_format='jpeg'):\r\n",
        "          i += 1\r\n",
        "          if i > 100:\r\n",
        "              break  # otherwise the generator would loop indefinitely"
      ],
      "execution_count": 4,
      "outputs": []
    }
  ]
}